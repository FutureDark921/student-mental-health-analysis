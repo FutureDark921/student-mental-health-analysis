{
 "cells": [
  {
   "cell_type": "markdown",
   "id": "16f7b4a1",
   "metadata": {},
   "source": [
    "# Data Cleaning Notebook\n",
    "This notebook reads the provided CSV, cleans column names, converts Yes/No to 1/0, maps GPA ranges to numeric midpoints, and exports a cleaned CSV ready for MySQL/Tableau."
   ]
  },
  {
   "cell_type": "code",
   "execution_count": null,
   "id": "d19d75fa",
   "metadata": {},
   "outputs": [],
   "source": [
    "import pandas as pd\n",
    "df = pd.read_csv('data/Student_Mental_health.csv')\n",
    "df.head()\n"
   ]
  },
  {
   "cell_type": "markdown",
   "id": "42a2870d",
   "metadata": {},
   "source": [
    "## 1) Standardize column names\n",
    "Remove leading/trailing spaces and make names SQL-friendly (snake_case)."
   ]
  },
  {
   "cell_type": "code",
   "execution_count": null,
   "id": "f3a62e81",
   "metadata": {},
   "outputs": [],
   "source": [
    "df.columns = [c.strip().replace(' ', '_').replace('-', '_') for c in df.columns]\n",
    "df.columns\n"
   ]
  },
  {
   "cell_type": "markdown",
   "id": "216d65d2",
   "metadata": {},
   "source": [
    "## 2) Convert Yes/No columns to numeric (1/0)"
   ]
  },
  {
   "cell_type": "code",
   "execution_count": null,
   "id": "addcaced",
   "metadata": {},
   "outputs": [],
   "source": [
    "# Explicit columns known from the dataset\n",
    "yesno_cols = ['Marital_status','Depression','Anxiety','Panic_attack','Treatment','Commit_Suicide']\n",
    "for c in yesno_cols:\n",
    "    if c in df.columns:\n",
    "        df[c] = df[c].astype(str).str.strip().str.lower().map({'yes':1,'no':0}).astype('Int64')\n",
    "df[yesno_cols].head()\n"
   ]
  },
  {
   "cell_type": "markdown",
   "id": "e7be78ca",
   "metadata": {},
   "source": [
    "## 3) Map GPA ranges to numeric midpoints"
   ]
  },
  {
   "cell_type": "code",
   "execution_count": null,
   "id": "86125a6d",
   "metadata": {},
   "outputs": [],
   "source": [
    "gpa_map = {'2.50 - 2.99':2.75,'3.00 - 3.49':3.25,'3.50 - 4.00':3.75}\n",
    "if 'GPA' in df.columns:\n",
    "    df['GPA_num'] = df['GPA'].map(gpa_map)\n",
    "df[['GPA','GPA_num']].head()\n"
   ]
  },
  {
   "cell_type": "markdown",
   "id": "c465d1e3",
   "metadata": {},
   "source": [
    "## 4) Clean Course and Year_study text"
   ]
  },
  {
   "cell_type": "code",
   "execution_count": null,
   "id": "34d81b70",
   "metadata": {},
   "outputs": [],
   "source": [
    "if ' Course' in df.columns:\n",
    "    df['Course'] = df[' Course'].astype(str).str.strip()\n",
    "    df = df.rename(columns={' Course':'Course'})\n",
    "if 'Year_study' in df.columns:\n",
    "    df['Year_study'] = df['Year_study'].astype(str).str.strip()\n"
   ]
  },
  {
   "cell_type": "markdown",
   "id": "dc19a0e8",
   "metadata": {},
   "source": [
    "## 5) Export cleaned CSV"
   ]
  },
  {
   "cell_type": "code",
   "execution_count": null,
   "id": "09821e16",
   "metadata": {},
   "outputs": [],
   "source": [
    "out_path = 'data/Student_Mental_health_CLEAN.csv'\n",
    "df.to_csv(out_path, index=False)\n",
    "print('Saved cleaned CSV to', out_path)\n"
   ]
  },
  {
   "cell_type": "markdown",
   "id": "ce802fb2",
   "metadata": {},
   "source": [
    "## 6) Next steps\n",
    "- Use `sql/mysql_analysis.sql` to create the table and load the cleaned CSV\n",
    "- Open Tableau and follow the dashboard plan in `docs/tableau_dashboard_plan.md`"
   ]
  }
 ],
 "metadata": {},
 "nbformat": 4,
 "nbformat_minor": 5
}
